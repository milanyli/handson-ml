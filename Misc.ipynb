{
 "cells": [
  {
   "cell_type": "code",
   "execution_count": 14,
   "metadata": {
    "collapsed": false
   },
   "outputs": [],
   "source": [
    "# One line comment\n",
    "x = 1"
   ]
  },
  {
   "cell_type": "code",
   "execution_count": 17,
   "metadata": {
    "collapsed": false
   },
   "outputs": [],
   "source": [
    "'''\n",
    "Multiple line comments\n",
    "Line 1\n",
    "Line 2\n",
    "'''\n",
    "x = 2"
   ]
  },
  {
   "cell_type": "code",
   "execution_count": 66,
   "metadata": {
    "collapsed": false
   },
   "outputs": [
    {
     "name": "stdout",
     "output_type": "stream",
     "text": [
      "2\n",
      "2\n",
      "abc\n",
      "abc\n",
      "2.00\n",
      "2.00\n",
      "abc is 11.00\n",
      "abc is 11.00\n"
     ]
    }
   ],
   "source": [
    "print x\n",
    "print(x)\n",
    "print \"abc\"\n",
    "print(\"abc\")\n",
    "print \"%.2f\" %x\n",
    "print(\"%.2f\" %x)\n",
    "print \"%s is %.2f\" %(\"abc\", 11)\n",
    "print (\"%s is %.2f\" %(\"abc\", 11))"
   ]
  },
  {
   "cell_type": "code",
   "execution_count": 39,
   "metadata": {
    "collapsed": false
   },
   "outputs": [
    {
     "name": "stdout",
     "output_type": "stream",
     "text": [
      "It's nice to see you\n",
      "It's nice to see you\n",
      "\"quote\"\n",
      "'quote'\n"
     ]
    }
   ],
   "source": [
    "print \"It's nice to see you\"\n",
    "print 'It\\'s nice to see you'\n",
    "print '\"quote\"'\n",
    "print \"'quote'\""
   ]
  },
  {
   "cell_type": "code",
   "execution_count": 40,
   "metadata": {
    "collapsed": false
   },
   "outputs": [
    {
     "name": "stdout",
     "output_type": "stream",
     "text": [
      "q\n"
     ]
    }
   ],
   "source": [
    "a = 'quotes'\n",
    "print a[0]"
   ]
  },
  {
   "cell_type": "code",
   "execution_count": 49,
   "metadata": {
    "collapsed": false
   },
   "outputs": [
    {
     "name": "stdout",
     "output_type": "stream",
     "text": [
      "2.00 is like this\n"
     ]
    }
   ],
   "source": [
    "print '%.2f is like this' %x"
   ]
  },
  {
   "cell_type": "code",
   "execution_count": 54,
   "metadata": {
    "collapsed": false
   },
   "outputs": [
    {
     "name": "stdout",
     "output_type": "stream",
     "text": [
      "6\n",
      "QUOTES\n",
      "quotes\n"
     ]
    }
   ],
   "source": [
    "print len(a)\n",
    "print a.upper()\n",
    "print a"
   ]
  },
  {
   "cell_type": "code",
   "execution_count": 57,
   "metadata": {
    "collapsed": false
   },
   "outputs": [
    {
     "name": "stdout",
     "output_type": "stream",
     "text": [
      "This is 1 test.\n"
     ]
    }
   ],
   "source": [
    "print \"This is \" + str(1) + \" test.\""
   ]
  },
  {
   "cell_type": "code",
   "execution_count": 67,
   "metadata": {
    "collapsed": false
   },
   "outputs": [
    {
     "name": "stdout",
     "output_type": "stream",
     "text": [
      "Please type your nameWei\n"
     ]
    }
   ],
   "source": [
    "x = raw_input(\"Please type your name\")"
   ]
  }
 ],
 "metadata": {
  "anaconda-cloud": {},
  "kernelspec": {
   "display_name": "Python [Root]",
   "language": "python",
   "name": "Python [Root]"
  },
  "language_info": {
   "codemirror_mode": {
    "name": "ipython",
    "version": 2
   },
   "file_extension": ".py",
   "mimetype": "text/x-python",
   "name": "python",
   "nbconvert_exporter": "python",
   "pygments_lexer": "ipython2",
   "version": "2.7.12"
  }
 },
 "nbformat": 4,
 "nbformat_minor": 0
}
