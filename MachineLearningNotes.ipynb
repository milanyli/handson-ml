{
 "cells": [
  {
   "cell_type": "code",
   "execution_count": 2,
   "metadata": {
    "collapsed": true
   },
   "outputs": [],
   "source": [
    "%matplotlib inline"
   ]
  },
  {
   "cell_type": "code",
   "execution_count": 278,
   "metadata": {
    "collapsed": false
   },
   "outputs": [],
   "source": [
    "import pandas as pd\n",
    "import numpy as np\n",
    "import matplotlib\n",
    "import matplotlib.pyplot as plt\n",
    "from sklearn.linear_model import LinearRegression\n",
    "from sklearn.model_selection import StratifiedShuffleSplit\n",
    "from sklearn.metrics import normalized_mutual_info_score\n",
    "from sklearn.preprocessing import Imputer\n",
    "from sklearn.preprocessing import StandardScaler\n",
    "from sklearn.linear_model import LogisticRegression\n",
    "from sklearn.model_selection import cross_val_score\n",
    "from pandas.plotting import scatter_matrix"
   ]
  },
  {
   "cell_type": "markdown",
   "metadata": {},
   "source": [
    "### Load and explore data"
   ]
  },
  {
   "cell_type": "code",
   "execution_count": 4,
   "metadata": {
    "collapsed": true
   },
   "outputs": [],
   "source": [
    "data = pd.read_csv('scientific_revenue/2017-08-05_MobilityWare_BlackjackFree_campaign_name_IOS_SPEND_.csv')"
   ]
  },
  {
   "cell_type": "markdown",
   "metadata": {},
   "source": [
    "#### Basic information about the data\n",
    "* data.head()\n",
    "* data.shape\n",
    "* data.info()\n",
    "* data.columns"
   ]
  },
  {
   "cell_type": "code",
   "execution_count": 5,
   "metadata": {
    "collapsed": false
   },
   "outputs": [
    {
     "data": {
      "text/html": [
       "<div>\n",
       "<style>\n",
       "    .dataframe thead tr:only-child th {\n",
       "        text-align: right;\n",
       "    }\n",
       "\n",
       "    .dataframe thead th {\n",
       "        text-align: left;\n",
       "    }\n",
       "\n",
       "    .dataframe tbody tr th {\n",
       "        vertical-align: top;\n",
       "    }\n",
       "</style>\n",
       "<table border=\"1\" class=\"dataframe\">\n",
       "  <thead>\n",
       "    <tr style=\"text-align: right;\">\n",
       "      <th></th>\n",
       "      <th>Unnamed: 0</th>\n",
       "      <th>t0_geoip_metro_code</th>\n",
       "      <th>time_zone_offset</th>\n",
       "      <th>manufacturer</th>\n",
       "      <th>model</th>\n",
       "      <th>product</th>\n",
       "      <th>device_kind</th>\n",
       "      <th>form_factor_name</th>\n",
       "      <th>total_ram_in_kb</th>\n",
       "      <th>primary_storage_total_in_mb</th>\n",
       "      <th>...</th>\n",
       "      <th>pct_25_up</th>\n",
       "      <th>ppl_per_hh</th>\n",
       "      <th>pct_owner_occupied_hh</th>\n",
       "      <th>assignedIdentity</th>\n",
       "      <th>out</th>\n",
       "      <th>ecosystemAdvertisingId</th>\n",
       "      <th>JOINED_AT_DATE_TIME_LOCAL</th>\n",
       "      <th>SPEND_PROBABILITY</th>\n",
       "      <th>LTV</th>\n",
       "      <th>FIVE_DAY_SPEND</th>\n",
       "    </tr>\n",
       "  </thead>\n",
       "  <tbody>\n",
       "    <tr>\n",
       "      <th>0</th>\n",
       "      <td>1</td>\n",
       "      <td>MC-618</td>\n",
       "      <td>-300</td>\n",
       "      <td>Apple Inc.</td>\n",
       "      <td>iPad</td>\n",
       "      <td>iPad7,2</td>\n",
       "      <td>MINI</td>\n",
       "      <td>NaN</td>\n",
       "      <td>4071424</td>\n",
       "      <td>488271</td>\n",
       "      <td>...</td>\n",
       "      <td>63.202058</td>\n",
       "      <td>2.934443</td>\n",
       "      <td>61.840101</td>\n",
       "      <td>7b861e7b740db946deb8fb7d31676f929a30b76e</td>\n",
       "      <td>0.0</td>\n",
       "      <td>FE76DDBA-606D-4E29-89ED-BB2C4256EE3F</td>\n",
       "      <td>2017-06-29 06:29:01</td>\n",
       "      <td>0.545285</td>\n",
       "      <td>0.0</td>\n",
       "      <td>0.0</td>\n",
       "    </tr>\n",
       "    <tr>\n",
       "      <th>1</th>\n",
       "      <td>2</td>\n",
       "      <td>MC-635</td>\n",
       "      <td>-300</td>\n",
       "      <td>Apple Inc.</td>\n",
       "      <td>iPad</td>\n",
       "      <td>iPad7,4</td>\n",
       "      <td>MINI</td>\n",
       "      <td>NaN</td>\n",
       "      <td>4098048</td>\n",
       "      <td>488271</td>\n",
       "      <td>...</td>\n",
       "      <td>64.862676</td>\n",
       "      <td>2.711592</td>\n",
       "      <td>59.065396</td>\n",
       "      <td>818a34e1961d8a03a354c784b6cb5a0d79de1385</td>\n",
       "      <td>0.0</td>\n",
       "      <td>1636A406-2DFF-4B80-B395-5F0F40B9518F</td>\n",
       "      <td>2017-06-24 16:02:33</td>\n",
       "      <td>0.543682</td>\n",
       "      <td>0.0</td>\n",
       "      <td>0.0</td>\n",
       "    </tr>\n",
       "    <tr>\n",
       "      <th>2</th>\n",
       "      <td>3</td>\n",
       "      <td>MC-641</td>\n",
       "      <td>-300</td>\n",
       "      <td>Apple Inc.</td>\n",
       "      <td>iPad</td>\n",
       "      <td>iPad7,2</td>\n",
       "      <td>MINI</td>\n",
       "      <td>NaN</td>\n",
       "      <td>4071424</td>\n",
       "      <td>488271</td>\n",
       "      <td>...</td>\n",
       "      <td>63.446502</td>\n",
       "      <td>2.907557</td>\n",
       "      <td>63.861701</td>\n",
       "      <td>3ed2a02c057ccf3b36bee79e27416622280af617</td>\n",
       "      <td>0.0</td>\n",
       "      <td>76812F66-1752-4B6E-95C8-B071FB0A72BF</td>\n",
       "      <td>2017-06-30 16:58:45</td>\n",
       "      <td>0.537402</td>\n",
       "      <td>0.0</td>\n",
       "      <td>0.0</td>\n",
       "    </tr>\n",
       "    <tr>\n",
       "      <th>3</th>\n",
       "      <td>4</td>\n",
       "      <td>MC-501</td>\n",
       "      <td>-240</td>\n",
       "      <td>Apple Inc.</td>\n",
       "      <td>iPad</td>\n",
       "      <td>iPad7,4</td>\n",
       "      <td>MINI</td>\n",
       "      <td>NaN</td>\n",
       "      <td>4098048</td>\n",
       "      <td>488271</td>\n",
       "      <td>...</td>\n",
       "      <td>NaN</td>\n",
       "      <td>NaN</td>\n",
       "      <td>NaN</td>\n",
       "      <td>77a708c9ec4571a10372084eb01a056f8fc0608d</td>\n",
       "      <td>0.0</td>\n",
       "      <td>DAF38BA2-7D79-450C-9D92-0B9B312CC652</td>\n",
       "      <td>2017-06-22 09:07:03</td>\n",
       "      <td>0.522588</td>\n",
       "      <td>0.0</td>\n",
       "      <td>0.0</td>\n",
       "    </tr>\n",
       "    <tr>\n",
       "      <th>4</th>\n",
       "      <td>5</td>\n",
       "      <td>MC-501</td>\n",
       "      <td>-240</td>\n",
       "      <td>Apple Inc.</td>\n",
       "      <td>iPad</td>\n",
       "      <td>iPad7,4</td>\n",
       "      <td>MINI</td>\n",
       "      <td>NaN</td>\n",
       "      <td>4098048</td>\n",
       "      <td>488271</td>\n",
       "      <td>...</td>\n",
       "      <td>NaN</td>\n",
       "      <td>NaN</td>\n",
       "      <td>NaN</td>\n",
       "      <td>43a9511395b6374ad22463ade5e0d9da564c1f2e</td>\n",
       "      <td>0.0</td>\n",
       "      <td>219CA81A-73D6-446C-B2AC-24B2B2983613</td>\n",
       "      <td>2017-06-26 01:43:55</td>\n",
       "      <td>0.509655</td>\n",
       "      <td>0.0</td>\n",
       "      <td>0.0</td>\n",
       "    </tr>\n",
       "  </tbody>\n",
       "</table>\n",
       "<p>5 rows × 114 columns</p>\n",
       "</div>"
      ],
      "text/plain": [
       "   Unnamed: 0 t0_geoip_metro_code  time_zone_offset manufacturer model  \\\n",
       "0           1              MC-618              -300   Apple Inc.  iPad   \n",
       "1           2              MC-635              -300   Apple Inc.  iPad   \n",
       "2           3              MC-641              -300   Apple Inc.  iPad   \n",
       "3           4              MC-501              -240   Apple Inc.  iPad   \n",
       "4           5              MC-501              -240   Apple Inc.  iPad   \n",
       "\n",
       "   product device_kind form_factor_name  total_ram_in_kb  \\\n",
       "0  iPad7,2        MINI              NaN          4071424   \n",
       "1  iPad7,4        MINI              NaN          4098048   \n",
       "2  iPad7,2        MINI              NaN          4071424   \n",
       "3  iPad7,4        MINI              NaN          4098048   \n",
       "4  iPad7,4        MINI              NaN          4098048   \n",
       "\n",
       "   primary_storage_total_in_mb       ...        pct_25_up  ppl_per_hh  \\\n",
       "0                       488271       ...        63.202058    2.934443   \n",
       "1                       488271       ...        64.862676    2.711592   \n",
       "2                       488271       ...        63.446502    2.907557   \n",
       "3                       488271       ...              NaN         NaN   \n",
       "4                       488271       ...              NaN         NaN   \n",
       "\n",
       "   pct_owner_occupied_hh                          assignedIdentity  out  \\\n",
       "0              61.840101  7b861e7b740db946deb8fb7d31676f929a30b76e  0.0   \n",
       "1              59.065396  818a34e1961d8a03a354c784b6cb5a0d79de1385  0.0   \n",
       "2              63.861701  3ed2a02c057ccf3b36bee79e27416622280af617  0.0   \n",
       "3                    NaN  77a708c9ec4571a10372084eb01a056f8fc0608d  0.0   \n",
       "4                    NaN  43a9511395b6374ad22463ade5e0d9da564c1f2e  0.0   \n",
       "\n",
       "                 ecosystemAdvertisingId  JOINED_AT_DATE_TIME_LOCAL  \\\n",
       "0  FE76DDBA-606D-4E29-89ED-BB2C4256EE3F        2017-06-29 06:29:01   \n",
       "1  1636A406-2DFF-4B80-B395-5F0F40B9518F        2017-06-24 16:02:33   \n",
       "2  76812F66-1752-4B6E-95C8-B071FB0A72BF        2017-06-30 16:58:45   \n",
       "3  DAF38BA2-7D79-450C-9D92-0B9B312CC652        2017-06-22 09:07:03   \n",
       "4  219CA81A-73D6-446C-B2AC-24B2B2983613        2017-06-26 01:43:55   \n",
       "\n",
       "   SPEND_PROBABILITY  LTV  FIVE_DAY_SPEND  \n",
       "0           0.545285  0.0             0.0  \n",
       "1           0.543682  0.0             0.0  \n",
       "2           0.537402  0.0             0.0  \n",
       "3           0.522588  0.0             0.0  \n",
       "4           0.509655  0.0             0.0  \n",
       "\n",
       "[5 rows x 114 columns]"
      ]
     },
     "execution_count": 5,
     "metadata": {},
     "output_type": "execute_result"
    }
   ],
   "source": [
    "data.head()"
   ]
  },
  {
   "cell_type": "code",
   "execution_count": 6,
   "metadata": {
    "collapsed": false
   },
   "outputs": [
    {
     "data": {
      "text/plain": [
       "(5000, 114)"
      ]
     },
     "execution_count": 6,
     "metadata": {},
     "output_type": "execute_result"
    }
   ],
   "source": [
    "data.shape"
   ]
  },
  {
   "cell_type": "code",
   "execution_count": 7,
   "metadata": {
    "collapsed": false
   },
   "outputs": [
    {
     "name": "stdout",
     "output_type": "stream",
     "text": [
      "<class 'pandas.core.frame.DataFrame'>\n",
      "RangeIndex: 5000 entries, 0 to 4999\n",
      "Columns: 114 entries, Unnamed: 0 to FIVE_DAY_SPEND\n",
      "dtypes: bool(1), float64(69), int64(14), object(30)\n",
      "memory usage: 4.3+ MB\n"
     ]
    }
   ],
   "source": [
    "data.info()"
   ]
  },
  {
   "cell_type": "code",
   "execution_count": 8,
   "metadata": {
    "collapsed": false
   },
   "outputs": [
    {
     "name": "stdout",
     "output_type": "stream",
     "text": [
      "Unnamed: 0\n",
      "t0_geoip_metro_code\n",
      "time_zone_offset\n",
      "manufacturer\n",
      "model\n",
      "product\n",
      "device_kind\n",
      "form_factor_name\n",
      "total_ram_in_kb\n",
      "primary_storage_total_in_mb\n",
      "t0_primary_storage_free_in_mb\n",
      "secondary_storage_total_in_mb\n",
      "t0_secondary_storage_free_in_mb\n",
      "screen_height_pixels\n",
      "screen_width_pixels\n",
      "total_pixels\n",
      "x_dpi\n",
      "y_dpi\n",
      "density_dpi\n",
      "brand\n",
      "time_zone_id\n",
      "t0_os_version\n",
      "t0_sdk_version\n",
      "t0_connectivity\n",
      "android_device\n",
      "android_board\n",
      "android_display\n",
      "android_screen_size\n",
      "carrier_name\n",
      "mvno_name\n",
      "t0_battery_level\n",
      "t0_charging\n",
      "t0_geoip_country\n",
      "t0_geoip_state\n",
      "billing_country\n",
      "sim_country\n",
      "physical_country\n",
      "locale_country\n",
      "estimated_country\n",
      "t0_churn_probability\n",
      "t0_spend_probability\n",
      "joined_at_local_hour\n",
      "joined_at_local_time\n",
      "joined_at_local_day_of_week\n",
      "locale_language\n",
      "in_vehicle\n",
      "on_bicycle\n",
      "on_foot\n",
      "is_running\n",
      "is_still\n",
      "is_tilting\n",
      "is_unknown\n",
      "is_walking\n",
      "country_affluence_score_name\n",
      "treatment\n",
      "list_price_usd\n",
      "current_price_usd\n",
      "release_date\n",
      "has_rear_camera\n",
      "has_front_camera\n",
      "back_camera_mp\n",
      "front_camera_mp\n",
      "cpu_model\n",
      "cpu_number_of_cores\n",
      "cpu_speed\n",
      "display_height\n",
      "display_width\n",
      "pixel_density\n",
      "ambient_device_total_pixels\n",
      "total_storage_in_kb\n",
      "total_pop\n",
      "males_per_100_females\n",
      "pct_aged_5_to_14\n",
      "pct_aged_15_to_17\n",
      "pct_aged_18_to_24\n",
      "pct_aged_15_to_44\n",
      "pct_aged_18_up\n",
      "num_men_15_up\n",
      "num_women_15_up\n",
      "num_15_up\n",
      "pct_married\n",
      "num_hispanic_15_up\n",
      "num_white_15_up\n",
      "num_native_born_15_up\n",
      "men_16_up\n",
      "women_16_up\n",
      "men_in_labor_force\n",
      "women_in_labor_force\n",
      "pop_25_up\n",
      "pct_high_school_deg\n",
      "pct_bach_deg\n",
      "median_earnings\n",
      "total_households\n",
      "pct_hh_inc_75k_to_100k\n",
      "pct_hh_inc_100k_to_150k\n",
      "pct_hh_inc_150k_to_200k\n",
      "pct_hh_inc_200k_up\n",
      "median_hh_inc\n",
      "mean_hh_inc\n",
      "owner_occupied_hh\n",
      "pct_native_born\n",
      "pct_white\n",
      "pct_men_in_labor_force\n",
      "pct_women_in_labor_force\n",
      "pct_25_up\n",
      "ppl_per_hh\n",
      "pct_owner_occupied_hh\n",
      "assignedIdentity\n",
      "out\n",
      "ecosystemAdvertisingId\n",
      "JOINED_AT_DATE_TIME_LOCAL\n",
      "SPEND_PROBABILITY\n",
      "LTV\n",
      "FIVE_DAY_SPEND\n"
     ]
    }
   ],
   "source": [
    "for c in data.columns:\n",
    "    print c"
   ]
  },
  {
   "cell_type": "markdown",
   "metadata": {},
   "source": [
    "#### Split into training and test sets\n",
    "* train_test_split()\n",
    "* StratifiedShuffleSplit() -- usually use a feature with high correlation with the target"
   ]
  },
  {
   "cell_type": "code",
   "execution_count": 80,
   "metadata": {
    "collapsed": false
   },
   "outputs": [],
   "source": [
    "# Use list_price_usd for stratified sampling. Need to replace NaN with some value.\n",
    "y_column = data['list_price_usd'].fillna(0.0)"
   ]
  },
  {
   "cell_type": "code",
   "execution_count": 81,
   "metadata": {
    "collapsed": false
   },
   "outputs": [],
   "source": [
    "split = StratifiedShuffleSplit(n_splits=1, test_size=0.2, random_state=42)\n",
    "for training_index, test_index in split.split(data, y_column):\n",
    "    training = data.loc[training_index]\n",
    "    test = data.loc[test_index]"
   ]
  },
  {
   "cell_type": "markdown",
   "metadata": {},
   "source": [
    "#### Look at individual features in the training data\n",
    "* training.corr()\n",
    "* training.hist()\n",
    "* scatter_matrix()\n",
    "* training.value_counts()\n",
    "* normalized_mutual_info_score()"
   ]
  },
  {
   "cell_type": "code",
   "execution_count": 124,
   "metadata": {
    "collapsed": false
   },
   "outputs": [],
   "source": [
    "# Get correlation between numerical features and predicting target.\n",
    "spend_correlation = training.corr()['SPEND_PROBABILITY']\n",
    "corr_df = pd.DataFrame(spend_correlation)\n",
    "numerical_features = training[corr_df.index] # numerical_features = training.select_dtypes(include=['float64'])\n",
    "categorical_features = training.drop(corr_df.index, axis=1)"
   ]
  },
  {
   "cell_type": "code",
   "execution_count": 172,
   "metadata": {
    "collapsed": false
   },
   "outputs": [],
   "source": [
    "# Get high-correlation features.\n",
    "high_corr = corr_df[(np.abs(corr_df['SPEND_PROBABILITY']) > 0.2) & (np.abs(corr_df['SPEND_PROBABILITY']) < 0.8)]\n",
    "high_corr_features = numerical_features[high_corr.index]"
   ]
  },
  {
   "cell_type": "code",
   "execution_count": 126,
   "metadata": {
    "collapsed": false
   },
   "outputs": [
    {
     "data": {
      "text/plain": [
       "current_price_usd                0.208119\n",
       "display_width                    0.221311\n",
       "total_ram_in_kb                  0.263667\n",
       "t0_primary_storage_free_in_mb    0.644055\n",
       "primary_storage_total_in_mb      0.734880\n",
       "Name: SPEND_PROBABILITY, dtype: float64"
      ]
     },
     "execution_count": 126,
     "metadata": {},
     "output_type": "execute_result"
    }
   ],
   "source": [
    "high_corr['SPEND_PROBABILITY'].sort_values()"
   ]
  },
  {
   "cell_type": "code",
   "execution_count": 193,
   "metadata": {
    "collapsed": false
   },
   "outputs": [
    {
     "data": {
      "text/plain": [
       "<matplotlib.collections.PathCollection at 0x1148eee90>"
      ]
     },
     "execution_count": 193,
     "metadata": {},
     "output_type": "execute_result"
    },
    {
     "data": {
      "image/png": "[encoded data removed]",
      "text/plain": [
       "<matplotlib.figure.Figure at 0x126930110>"
      ]
     },
     "metadata": {},
     "output_type": "display_data"
    }
   ],
   "source": [
    "plt.scatter(numerical_features['primary_storage_total_in_mb'], training['SPEND_PROBABILITY'])"
   ]
  },
  {
   "cell_type": "code",
   "execution_count": 196,
   "metadata": {
    "collapsed": false
   },
   "outputs": [
    {
     "data": {
      "text/plain": [
       "<matplotlib.collections.PathCollection at 0x126e09b10>"
      ]
     },
     "execution_count": 196,
     "metadata": {},
     "output_type": "execute_result"
    },
    {
     "data": {
      "image/png": "[encoded data removed]",
      "text/plain": [
       "<matplotlib.figure.Figure at 0x126d396d0>"
      ]
     },
     "metadata": {},
     "output_type": "display_data"
    }
   ],
   "source": [
    "plt.scatter(numerical_features['current_price_usd'], training['SPEND_PROBABILITY'])"
   ]
  },
  {
   "cell_type": "code",
   "execution_count": 127,
   "metadata": {
    "collapsed": false
   },
   "outputs": [
    {
     "data": {
      "text/plain": [
       "array([[<matplotlib.axes._subplots.AxesSubplot object at 0x1230bbd10>,\n",
       "        <matplotlib.axes._subplots.AxesSubplot object at 0x1237a3910>,\n",
       "        <matplotlib.axes._subplots.AxesSubplot object at 0x123846d90>,\n",
       "        <matplotlib.axes._subplots.AxesSubplot object at 0x123d1c050>,\n",
       "        <matplotlib.axes._subplots.AxesSubplot object at 0x123d9f3d0>],\n",
       "       [<matplotlib.axes._subplots.AxesSubplot object at 0x123e06ad0>,\n",
       "        <matplotlib.axes._subplots.AxesSubplot object at 0x123e89e50>,\n",
       "        <matplotlib.axes._subplots.AxesSubplot object at 0x123efe650>,\n",
       "        <matplotlib.axes._subplots.AxesSubplot object at 0x124082ad0>,\n",
       "        <matplotlib.axes._subplots.AxesSubplot object at 0x124042450>],\n",
       "       [<matplotlib.axes._subplots.AxesSubplot object at 0x12417b710>,\n",
       "        <matplotlib.axes._subplots.AxesSubplot object at 0x124202590>,\n",
       "        <matplotlib.axes._subplots.AxesSubplot object at 0x124274290>,\n",
       "        <matplotlib.axes._subplots.AxesSubplot object at 0x1242fb210>,\n",
       "        <matplotlib.axes._subplots.AxesSubplot object at 0x124463990>],\n",
       "       [<matplotlib.axes._subplots.AxesSubplot object at 0x1244e99d0>,\n",
       "        <matplotlib.axes._subplots.AxesSubplot object at 0x12455e1d0>,\n",
       "        <matplotlib.axes._subplots.AxesSubplot object at 0x1245e4390>,\n",
       "        <matplotlib.axes._subplots.AxesSubplot object at 0x12464ad10>,\n",
       "        <matplotlib.axes._subplots.AxesSubplot object at 0x1246cffd0>],\n",
       "       [<matplotlib.axes._subplots.AxesSubplot object at 0x124667190>,\n",
       "        <matplotlib.axes._subplots.AxesSubplot object at 0x1247c7cd0>,\n",
       "        <matplotlib.axes._subplots.AxesSubplot object at 0x124803d50>,\n",
       "        <matplotlib.axes._subplots.AxesSubplot object at 0x1248c1850>,\n",
       "        <matplotlib.axes._subplots.AxesSubplot object at 0x1249496d0>]], dtype=object)"
      ]
     },
     "execution_count": 127,
     "metadata": {},
     "output_type": "execute_result"
    },
    {
     "data": {
      "image/png": "[encoded data removed]",
      "text/plain": [
       "<matplotlib.figure.Figure at 0x115ce6c50>"
      ]
     },
     "metadata": {},
     "output_type": "display_data"
    }
   ],
   "source": [
    "# Check correlation among these features.\n",
    "scatter_matrix(high_corr_features, figsize=(20, 16))"
   ]
  },
  {
   "cell_type": "code",
   "execution_count": 128,
   "metadata": {
    "collapsed": false
   },
   "outputs": [
    {
     "data": {
      "text/html": [
       "<div>\n",
       "<style>\n",
       "    .dataframe thead tr:only-child th {\n",
       "        text-align: right;\n",
       "    }\n",
       "\n",
       "    .dataframe thead th {\n",
       "        text-align: left;\n",
       "    }\n",
       "\n",
       "    .dataframe tbody tr th {\n",
       "        vertical-align: top;\n",
       "    }\n",
       "</style>\n",
       "<table border=\"1\" class=\"dataframe\">\n",
       "  <thead>\n",
       "    <tr style=\"text-align: right;\">\n",
       "      <th></th>\n",
       "      <th>total_ram_in_kb</th>\n",
       "      <th>primary_storage_total_in_mb</th>\n",
       "      <th>t0_primary_storage_free_in_mb</th>\n",
       "      <th>current_price_usd</th>\n",
       "      <th>display_width</th>\n",
       "    </tr>\n",
       "  </thead>\n",
       "  <tbody>\n",
       "    <tr>\n",
       "      <th>total_ram_in_kb</th>\n",
       "      <td>1.000000</td>\n",
       "      <td>0.208125</td>\n",
       "      <td>0.208235</td>\n",
       "      <td>0.729735</td>\n",
       "      <td>0.856664</td>\n",
       "    </tr>\n",
       "    <tr>\n",
       "      <th>primary_storage_total_in_mb</th>\n",
       "      <td>0.208125</td>\n",
       "      <td>1.000000</td>\n",
       "      <td>0.888606</td>\n",
       "      <td>0.238871</td>\n",
       "      <td>0.147542</td>\n",
       "    </tr>\n",
       "    <tr>\n",
       "      <th>t0_primary_storage_free_in_mb</th>\n",
       "      <td>0.208235</td>\n",
       "      <td>0.888606</td>\n",
       "      <td>1.000000</td>\n",
       "      <td>0.261001</td>\n",
       "      <td>0.147758</td>\n",
       "    </tr>\n",
       "    <tr>\n",
       "      <th>current_price_usd</th>\n",
       "      <td>0.729735</td>\n",
       "      <td>0.238871</td>\n",
       "      <td>0.261001</td>\n",
       "      <td>1.000000</td>\n",
       "      <td>0.608481</td>\n",
       "    </tr>\n",
       "    <tr>\n",
       "      <th>display_width</th>\n",
       "      <td>0.856664</td>\n",
       "      <td>0.147542</td>\n",
       "      <td>0.147758</td>\n",
       "      <td>0.608481</td>\n",
       "      <td>1.000000</td>\n",
       "    </tr>\n",
       "  </tbody>\n",
       "</table>\n",
       "</div>"
      ],
      "text/plain": [
       "                               total_ram_in_kb  primary_storage_total_in_mb  \\\n",
       "total_ram_in_kb                       1.000000                     0.208125   \n",
       "primary_storage_total_in_mb           0.208125                     1.000000   \n",
       "t0_primary_storage_free_in_mb         0.208235                     0.888606   \n",
       "current_price_usd                     0.729735                     0.238871   \n",
       "display_width                         0.856664                     0.147542   \n",
       "\n",
       "                               t0_primary_storage_free_in_mb  \\\n",
       "total_ram_in_kb                                     0.208235   \n",
       "primary_storage_total_in_mb                         0.888606   \n",
       "t0_primary_storage_free_in_mb                       1.000000   \n",
       "current_price_usd                                   0.261001   \n",
       "display_width                                       0.147758   \n",
       "\n",
       "                               current_price_usd  display_width  \n",
       "total_ram_in_kb                         0.729735       0.856664  \n",
       "primary_storage_total_in_mb             0.238871       0.147542  \n",
       "t0_primary_storage_free_in_mb           0.261001       0.147758  \n",
       "current_price_usd                       1.000000       0.608481  \n",
       "display_width                           0.608481       1.000000  "
      ]
     },
     "execution_count": 128,
     "metadata": {},
     "output_type": "execute_result"
    }
   ],
   "source": [
    "high_corr_features.corr()"
   ]
  },
  {
   "cell_type": "code",
   "execution_count": 182,
   "metadata": {
    "collapsed": false
   },
   "outputs": [],
   "source": [
    "# Get mutual information between categorical features and predicting target. \n",
    "mi = []\n",
    "cardinality = []\n",
    "for c in categorical_features.columns:\n",
    "    mi = mi + [normalized_mutual_info_score(training['SPEND_PROBABILITY'], categorical_features[c])]\n",
    "    cardinality = cardinality + [len(categorical_features[c].value_counts())]\n",
    "mi_df = pd.DataFrame(categorical_features.columns, columns = ['feature'])\n",
    "mi_df['mutual_information'] = mi\n",
    "mi_df['cardinality'] = cardinality"
   ]
  },
  {
   "cell_type": "code",
   "execution_count": 189,
   "metadata": {
    "collapsed": false
   },
   "outputs": [
    {
     "data": {
      "text/html": [
       "<div>\n",
       "<style>\n",
       "    .dataframe thead tr:only-child th {\n",
       "        text-align: right;\n",
       "    }\n",
       "\n",
       "    .dataframe thead th {\n",
       "        text-align: left;\n",
       "    }\n",
       "\n",
       "    .dataframe tbody tr th {\n",
       "        vertical-align: top;\n",
       "    }\n",
       "</style>\n",
       "<table border=\"1\" class=\"dataframe\">\n",
       "  <thead>\n",
       "    <tr style=\"text-align: right;\">\n",
       "      <th></th>\n",
       "      <th>feature</th>\n",
       "      <th>mutual_information</th>\n",
       "      <th>cardinality</th>\n",
       "    </tr>\n",
       "  </thead>\n",
       "  <tbody>\n",
       "    <tr>\n",
       "      <th>0</th>\n",
       "      <td>t0_geoip_metro_code</td>\n",
       "      <td>0.730698</td>\n",
       "      <td>165</td>\n",
       "    </tr>\n",
       "    <tr>\n",
       "      <th>3</th>\n",
       "      <td>product</td>\n",
       "      <td>0.490509</td>\n",
       "      <td>21</td>\n",
       "    </tr>\n",
       "    <tr>\n",
       "      <th>5</th>\n",
       "      <td>form_factor_name</td>\n",
       "      <td>0.415181</td>\n",
       "      <td>3</td>\n",
       "    </tr>\n",
       "    <tr>\n",
       "      <th>11</th>\n",
       "      <td>carrier_name</td>\n",
       "      <td>0.424463</td>\n",
       "      <td>69</td>\n",
       "    </tr>\n",
       "    <tr>\n",
       "      <th>13</th>\n",
       "      <td>t0_geoip_state</td>\n",
       "      <td>0.615648</td>\n",
       "      <td>100</td>\n",
       "    </tr>\n",
       "    <tr>\n",
       "      <th>18</th>\n",
       "      <td>joined_at_local_time</td>\n",
       "      <td>0.447946</td>\n",
       "      <td>5</td>\n",
       "    </tr>\n",
       "    <tr>\n",
       "      <th>24</th>\n",
       "      <td>has_rear_camera</td>\n",
       "      <td>0.655385</td>\n",
       "      <td>1</td>\n",
       "    </tr>\n",
       "    <tr>\n",
       "      <th>25</th>\n",
       "      <td>has_front_camera</td>\n",
       "      <td>0.655385</td>\n",
       "      <td>1</td>\n",
       "    </tr>\n",
       "  </tbody>\n",
       "</table>\n",
       "</div>"
      ],
      "text/plain": [
       "                 feature  mutual_information  cardinality\n",
       "0    t0_geoip_metro_code            0.730698          165\n",
       "3                product            0.490509           21\n",
       "5       form_factor_name            0.415181            3\n",
       "11          carrier_name            0.424463           69\n",
       "13        t0_geoip_state            0.615648          100\n",
       "18  joined_at_local_time            0.447946            5\n",
       "24       has_rear_camera            0.655385            1\n",
       "25      has_front_camera            0.655385            1"
      ]
     },
     "execution_count": 189,
     "metadata": {},
     "output_type": "execute_result"
    }
   ],
   "source": [
    "# Get high-MI features.\n",
    "high_mi = mi_df[(mi_df['mutual_information'] >= 0.4) & (mi_df['mutual_information'] < 0.9)]\n",
    "high_mi"
   ]
  },
  {
   "cell_type": "code",
   "execution_count": 190,
   "metadata": {
    "collapsed": false
   },
   "outputs": [
    {
     "data": {
      "text/plain": [
       "0.8368987421684424"
      ]
     },
     "execution_count": 190,
     "metadata": {},
     "output_type": "execute_result"
    }
   ],
   "source": [
    "# Check mutual information among these features.\n",
    "normalized_mutual_info_score(categorical_features['t0_geoip_metro_code'], categorical_features['t0_geoip_state'])"
   ]
  },
  {
   "cell_type": "code",
   "execution_count": 191,
   "metadata": {
    "collapsed": false
   },
   "outputs": [
    {
     "data": {
      "text/plain": [
       "1.0"
      ]
     },
     "execution_count": 191,
     "metadata": {},
     "output_type": "execute_result"
    }
   ],
   "source": [
    "normalized_mutual_info_score(categorical_features['has_front_camera'], categorical_features['has_rear_camera'])"
   ]
  },
  {
   "cell_type": "code",
   "execution_count": 204,
   "metadata": {
    "collapsed": false
   },
   "outputs": [],
   "source": [
    "# Drop redundant features\n",
    "high_mi = high_mi[high_mi['feature'] != 'has_rear_camera']"
   ]
  },
  {
   "cell_type": "markdown",
   "metadata": {},
   "source": [
    "### Preprocessing data\n",
    "* Remove outliers\n",
    "* Deal with missing values\n",
    "* Feature scaling\n",
    "* Convert categorical features into binary features\n",
    "* Remove binary features with too few positives"
   ]
  },
  {
   "cell_type": "code",
   "execution_count": 199,
   "metadata": {
    "collapsed": true
   },
   "outputs": [],
   "source": [
    "class DataFrameSelector(BaseEstimator, TransformerMixin):\n",
    "    def __init__(self, attribute_names):\n",
    "        self.attribute_names = attribute_names\n",
    "    def fit(self, X, y=None):\n",
    "        return self\n",
    "    def transform(self, X):\n",
    "        return X[self.attribute_names].values"
   ]
  },
  {
   "cell_type": "code",
   "execution_count": 281,
   "metadata": {
    "collapsed": false
   },
   "outputs": [],
   "source": [
    "# Process numerical features\n",
    "imputer = Imputer(strategy='median')\n",
    "scaler = StandardScaler()\n",
    "num_prepared = pd.DataFrame(scaler.fit_transform(imputer.fit_transform(training[high_corr_features.columns])),\n",
    "                            columns = high_corr_features.columns, index=training.index)"
   ]
  },
  {
   "cell_type": "code",
   "execution_count": 259,
   "metadata": {
    "collapsed": false
   },
   "outputs": [],
   "source": [
    "# Process categorical features\n",
    "cat_encoded = pd.get_dummies(training[high_mi['feature'].values])\n",
    "cat_summary = pd.DataFrame(cat_encoded.sum(), columns = ['count'])\n",
    "cat_summary = cat_summary[cat_summary['count'] >= 20]\n",
    "cat_prepared = cat_encoded[cat_summary.index]"
   ]
  },
  {
   "cell_type": "code",
   "execution_count": 277,
   "metadata": {
    "collapsed": true
   },
   "outputs": [],
   "source": [
    "data_prepared = pd.concat([num_prepared, cat_prepared], axis=1)"
   ]
  }
 ],
 "metadata": {
  "anaconda-cloud": {},
  "kernelspec": {
   "display_name": "Python [Root]",
   "language": "python",
   "name": "Python [Root]"
  },
  "language_info": {
   "codemirror_mode": {
    "name": "ipython",
    "version": 2
   },
   "file_extension": ".py",
   "mimetype": "text/x-python",
   "name": "python",
   "nbconvert_exporter": "python",
   "pygments_lexer": "ipython2",
   "version": "2.7.12"
  }
 },
 "nbformat": 4,
 "nbformat_minor": 0
}
